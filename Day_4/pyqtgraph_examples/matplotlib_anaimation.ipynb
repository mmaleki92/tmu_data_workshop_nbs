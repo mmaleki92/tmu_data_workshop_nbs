{
 "cells": [
  {
   "attachments": {},
   "cell_type": "markdown",
   "metadata": {},
   "source": [
    "# Matplotlib"
   ]
  },
  {
   "attachments": {},
   "cell_type": "markdown",
   "metadata": {},
   "source": [
    "### Simple Matplotlib Animation"
   ]
  },
  {
   "cell_type": "code",
   "execution_count": null,
   "metadata": {},
   "outputs": [],
   "source": [
    "%matplotlib qt\n",
    "import numpy as np\n",
    "import matplotlib.pyplot as plt\n",
    "from matplotlib.animation import FuncAnimation\n",
    "\n",
    "# Create the figure and axis objects\n",
    "fig, ax = plt.subplots()\n",
    "\n",
    "# Initialize the x and y data arrays\n",
    "x = np.linspace(0, 2 * np.pi, 100)\n",
    "y = np.sin(x)\n",
    "\n",
    "# Create the line object for the plot\n",
    "line, = ax.plot(x, y)\n",
    "\n",
    "# Animation update function\n",
    "def update(frame):\n",
    "    # Update the y data for the sine wave\n",
    "    line.set_ydata(np.sin(x + frame * 0.1))\n",
    "    return line,\n",
    "\n",
    "# Create the animation\n",
    "animation = FuncAnimation(fig, update, frames=100, interval=50, blit=True)\n",
    "\n",
    "# Display the animation\n",
    "plt.show()"
   ]
  },
  {
   "attachments": {},
   "cell_type": "markdown",
   "metadata": {},
   "source": [
    "### Simple Matplotlib Animation (imshow)"
   ]
  },
  {
   "cell_type": "code",
   "execution_count": 11,
   "metadata": {},
   "outputs": [],
   "source": [
    "import numpy as np\n",
    "import matplotlib.pyplot as plt\n",
    "from matplotlib.animation import FuncAnimation\n",
    "\n",
    "# Create the figure and axis objects\n",
    "fig, ax = plt.subplots()\n",
    "\n",
    "# Initialize the image data\n",
    "data = np.random.rand(10, 10)\n",
    "\n",
    "# Create the imshow object for the plot\n",
    "im = ax.imshow(data, cmap='viridis')\n",
    "\n",
    "# Animation update function\n",
    "def update(frame):\n",
    "    # Update the image data\n",
    "    new_data = np.random.rand(10, 10)\n",
    "    im.set_array(new_data)\n",
    "    return im,\n",
    "\n",
    "# Create the animation\n",
    "animation = FuncAnimation(fig, update, frames=100, interval=200, blit=True)\n",
    "\n",
    "# Display the animation\n",
    "plt.show()\n"
   ]
  },
  {
   "attachments": {},
   "cell_type": "markdown",
   "metadata": {},
   "source": [
    "### Moving View"
   ]
  },
  {
   "cell_type": "code",
   "execution_count": 20,
   "metadata": {},
   "outputs": [],
   "source": [
    "import numpy as np\n",
    "import matplotlib.pyplot as plt\n",
    "from mpl_toolkits.mplot3d import Axes3D\n",
    "from matplotlib.animation import FuncAnimation\n",
    "\n",
    "# Create the figure and axis objects\n",
    "fig = plt.figure()\n",
    "ax = fig.add_subplot(111, projection='3d')\n",
    "\n",
    "# Initialize the data for the 3D plot\n",
    "x = np.linspace(-5, 5, 100)\n",
    "y = np.linspace(-5, 5, 100)\n",
    "X, Y = np.meshgrid(x, y)\n",
    "Z = np.sin(np.sqrt(X**2 + Y**2))\n",
    "\n",
    "# Create the plot_surface object\n",
    "surf = ax.plot_surface(X, Y, Z, cmap='viridis')\n",
    "\n",
    "# Animation update function\n",
    "def update(frame):\n",
    "    # Rotate the plot\n",
    "    ax.view_init(elev=30, azim=frame)\n",
    "    \n",
    "# Create the animation\n",
    "animation = FuncAnimation(fig, update, frames=360, interval=50)\n",
    "\n",
    "# Display the animation\n",
    "plt.show()\n"
   ]
  },
  {
   "attachments": {},
   "cell_type": "markdown",
   "metadata": {},
   "source": [
    "### Add slider"
   ]
  },
  {
   "cell_type": "code",
   "execution_count": 19,
   "metadata": {},
   "outputs": [],
   "source": [
    "import numpy as np\n",
    "import matplotlib.pyplot as plt\n",
    "from matplotlib import cm\n",
    "from matplotlib.widgets import Slider\n",
    "\n",
    "N = 100\n",
    "\n",
    "X = np.linspace(0, 20, N)\n",
    "Y = np.linspace(0, 20, N)\n",
    "x, y = np.meshgrid(X, Y)\n",
    "z = np.sin(x) + np.sin(y)\n",
    "\n",
    "\n",
    "fig = plt.figure()\n",
    "\n",
    "ax1 = fig.add_axes([0, 0, 1, 0.8], projection = '3d')\n",
    "ax2 = fig.add_axes([0.1, 0.85, 0.8, 0.1])\n",
    "\n",
    "s = Slider(ax = ax2, label = 'value', valmin = 0, valmax = 5, valinit = 2)\n",
    "\n",
    "def update(val):\n",
    "    value = s.val\n",
    "    ax1.cla()\n",
    "    ax1.plot_surface(x, y, z + value, cmap = cm.coolwarm, linewidth = 0, antialiased = False)\n",
    "    ax1.set_zlim(-2, 7)\n",
    "\n",
    "s.on_changed(update)\n",
    "update(0)\n",
    "\n",
    "plt.show()"
   ]
  },
  {
   "attachments": {},
   "cell_type": "markdown",
   "metadata": {},
   "source": [
    "### 3D Animation"
   ]
  },
  {
   "cell_type": "code",
   "execution_count": 4,
   "metadata": {},
   "outputs": [],
   "source": [
    "%matplotlib qt\n",
    "import numpy as np\n",
    "import matplotlib.pyplot as plt\n",
    "from mpl_toolkits.mplot3d import Axes3D\n",
    "from matplotlib.animation import FuncAnimation #animate 3d graph \n",
    "import matplotlib.animation as animation # save the animation\n",
    "\n",
    "fig = plt.figure(figsize=(10,8))\n",
    "ax = fig.add_subplot(111, projection='3d')\n",
    "ax.set_xlim([-3,3])\n",
    "ax.set_ylim([-3,3])\n",
    "ax.set_zlim([-1,1])\n",
    "\n",
    "def update(num):\n",
    "    ax.clear()\n",
    "    ax.set_xlim([-3,3])\n",
    "    ax.set_ylim([-3,3])\n",
    "    ax.set_zlim([-1,1])\n",
    "    ax.set_xlabel(\"X\")\n",
    "    ax.set_ylabel(\"Y\")\n",
    "    ax.set_zlabel(\"Z\")\n",
    "    x = np.linspace(-3, 3, 100)\n",
    "    y = np.linspace(-3, 3, 100)\n",
    "    X, Y = np.meshgrid(x, y)\n",
    "    Z = np.exp(-(X**2 + Y**2) / 2) * np.cos(np.pi*num/10*(X**2 + Y**2))\n",
    "    surf = ax.plot_surface(X, Y, Z, cmap='coolwarm',linewidth=0, antialiased=False)\n",
    "    return surf\n",
    "\n",
    "ani = FuncAnimation(fig, update, frames=np.linspace(0, 10, 100), blit=False)\n",
    "# ani.save(\"animation.mp4\", writer = animation.FFMpegWriter(fps=30))\n",
    "plt.show()"
   ]
  },
  {
   "attachments": {},
   "cell_type": "markdown",
   "metadata": {},
   "source": [
    "# Pyqtgraph"
   ]
  },
  {
   "attachments": {},
   "cell_type": "markdown",
   "metadata": {},
   "source": [
    "### Imports"
   ]
  },
  {
   "cell_type": "code",
   "execution_count": 6,
   "metadata": {},
   "outputs": [],
   "source": [
    "import numpy as np\n",
    "import pyqtgraph as pg\n",
    "from pyqtgraph.Qt import QtGui\n"
   ]
  },
  {
   "attachments": {},
   "cell_type": "markdown",
   "metadata": {},
   "source": [
    "### simple plot\n"
   ]
  },
  {
   "cell_type": "code",
   "execution_count": null,
   "metadata": {},
   "outputs": [],
   "source": [
    "# Create the application and a top-level window\n",
    "app = pg.mkQApp(\"Plotting Example\")\n",
    "win = pg.GraphicsLayoutWidget()\n",
    "\n",
    "# Create two plots and add them to the layout widget\n",
    "plot1 = win.addPlot(row=0, col=0, title=\"Plot 1\")\n",
    "plot1.plot(np.random.normal(size=100))\n",
    "\n",
    "plot2 = win.addPlot(row=0, col=1, title=\"Plot 2\")\n",
    "plot2.plot(np.random.normal(size=100))\n",
    "\n",
    "# Set the window properties\n",
    "win.setWindowTitle(\"Multiple Plots Example\")\n",
    "win.show()\n",
    "\n",
    "# Start the event loop\n",
    "pg.exec()"
   ]
  },
  {
   "cell_type": "markdown",
   "metadata": {},
   "source": []
  },
  {
   "cell_type": "code",
   "execution_count": 11,
   "metadata": {},
   "outputs": [
    {
     "data": {
      "text/plain": [
       "0"
      ]
     },
     "execution_count": 11,
     "metadata": {},
     "output_type": "execute_result"
    }
   ],
   "source": [
    "# Create the application and a top-level window\n",
    "app = pg.mkQApp(\"Plotting Example\")\n",
    "win = pg.GraphicsLayoutWidget()\n",
    "\n",
    "p2 = win.addPlot(title=\"Multiple curves\")\n",
    "p2.plot(np.random.normal(size=100), pen=(255,0,0), name=\"Red curve\")\n",
    "p2.plot(np.random.normal(size=110)+5, pen=(0,255,0), name=\"Green curve\")\n",
    "p2.plot(np.random.normal(size=120)+10, pen=(0,0,255), name=\"Blue curve\")\n",
    "\n",
    "win.show()\n",
    "\n",
    "# Start the event loop\n",
    "pg.exec()\n"
   ]
  },
  {
   "attachments": {},
   "cell_type": "markdown",
   "metadata": {},
   "source": [
    "### plot + scatter"
   ]
  },
  {
   "cell_type": "code",
   "execution_count": null,
   "metadata": {},
   "outputs": [],
   "source": [
    "# Create the application and a top-level window\n",
    "app = pg.mkQApp(\"Plotting Example\")\n",
    "win = pg.GraphicsLayoutWidget()\n",
    "\n",
    "p3 = win.addPlot(title=\"Drawing with points\")\n",
    "p3.plot(np.random.normal(size=100), symbolPen='w', symbol ='o')\n",
    "win.show()\n",
    "\n",
    "# Start the event loop\n",
    "pg.exec()"
   ]
  },
  {
   "attachments": {},
   "cell_type": "markdown",
   "metadata": {},
   "source": [
    "- `np.random.normal(size=100)`: This argument generates a NumPy array with 100 random numbers drawn from a normal distribution. These numbers will be used as the y-values for the plot.\n",
    "\n",
    "- `pen=(200,200,200)`: This argument specifies the color of the plot line. The (200,200,200) tuple represents the RGB values for the color. In this case, the plot line color is light gray.\n",
    "\n",
    "- `symbolBrush=(255,0,0)`: This argument sets the color of the symbols used to represent each data point. The (255,0,0) tuple represents the RGB values for the color. In this case, the symbol color is red.\n",
    "\n",
    "- `symbolPen='w'`: This argument sets the color of the outline of the symbols. The 'w' string represents white color. This means the symbols will have a white outline."
   ]
  },
  {
   "attachments": {},
   "cell_type": "markdown",
   "metadata": {},
   "source": [
    "# Animation\n"
   ]
  },
  {
   "cell_type": "code",
   "execution_count": 7,
   "metadata": {},
   "outputs": [
    {
     "data": {
      "text/plain": [
       "0"
      ]
     },
     "execution_count": 7,
     "metadata": {},
     "output_type": "execute_result"
    }
   ],
   "source": [
    "import pyqtgraph as pg\n",
    "from pyqtgraph.Qt import QtGui\n",
    "\n",
    "app = pg.mkQApp(\"Plotting Example\")\n",
    "\n",
    "# Create a plot window\n",
    "win = pg.GraphicsLayoutWidget(title=\"Animation Example\")\n",
    "plot = win.addPlot()\n",
    "\n",
    "# Initialize the data\n",
    "data = [0]\n",
    "\n",
    "# Create a plot curve\n",
    "curve = plot.plot(data, pen='b')\n",
    "\n",
    "# Define the update function\n",
    "def update():\n",
    "    # Append new data to the data array\n",
    "    data.append(np.random.randint(-10,10))\n",
    "\n",
    "    # Update the plot curve with the new data\n",
    "    curve.setData(data[-10:])\n",
    "\n",
    "# Create a timer\n",
    "timer = pg.QtCore.QTimer()\n",
    "timer.timeout.connect(update)\n",
    "timer.start(100)  # Update every 100 milliseconds (10 times per second)\n",
    "win.show()\n",
    "\n",
    "# Start the Qt event loop\n",
    "app.exec()"
   ]
  },
  {
   "attachments": {},
   "cell_type": "markdown",
   "metadata": {},
   "source": [
    "# Do the Animation from files"
   ]
  },
  {
   "attachments": {},
   "cell_type": "markdown",
   "metadata": {},
   "source": [
    "?"
   ]
  },
  {
   "attachments": {},
   "cell_type": "markdown",
   "metadata": {},
   "source": [
    "# Optics"
   ]
  },
  {
   "cell_type": "code",
   "execution_count": 25,
   "metadata": {},
   "outputs": [],
   "source": [
    "\"\"\"\n",
    "Optical system design demo\n",
    "\"\"\"\n",
    "\n",
    "import numpy as np\n",
    "from optics import *\n",
    "\n",
    "import pyqtgraph as pg\n",
    "from pyqtgraph import Point\n",
    "\n",
    "app = pg.mkQApp(\"Optics Demo\")\n",
    "\n",
    "w = pg.GraphicsLayoutWidget(show=True, border=0.5)\n",
    "w.resize(1000, 900)\n",
    "w.show()\n",
    "\n",
    "### Curved mirror demo\n",
    "\n",
    "view = w.addViewBox()\n",
    "view.setAspectLocked()\n",
    "#grid = pg.GridItem()\n",
    "#view.addItem(grid)\n",
    "view.setRange(pg.QtCore.QRectF(-50, -30, 100, 100))\n",
    "\n",
    "optics = []\n",
    "rays = []\n",
    "m1 = Mirror(r1=-100, pos=(5,0), d=5, angle=-15)\n",
    "optics.append(m1)\n",
    "m2 = Mirror(r1=-70, pos=(-40, 30), d=6, angle=180-15)\n",
    "optics.append(m2)\n",
    "\n",
    "allRays = []\n",
    "for y in np.linspace(-10, 10, 21):\n",
    "    r = Ray(start=Point(-100, y))\n",
    "    view.addItem(r)\n",
    "    allRays.append(r)\n",
    "\n",
    "for o in optics:\n",
    "    view.addItem(o)\n",
    "    \n",
    "t1 = Tracer(allRays, optics)\n",
    "\n",
    "### Dispersion demo\n",
    "\n",
    "optics = []\n",
    "\n",
    "view = w.addViewBox()\n",
    "\n",
    "view.setAspectLocked()\n",
    "#grid = pg.GridItem()\n",
    "#view.addItem(grid)\n",
    "view.setRange(pg.QtCore.QRectF(-10, -50, 90, 60))\n",
    "\n",
    "optics = []\n",
    "rays = []\n",
    "l1 = Lens(r1=20, r2=20, d=10, angle=8, glass='Corning7980')\n",
    "optics.append(l1)\n",
    "\n",
    "allRays = []\n",
    "for wl in np.linspace(355,1040, 25):\n",
    "    for y in [10]:\n",
    "        r = Ray(start=Point(-100, y), wl=wl)\n",
    "        view.addItem(r)\n",
    "        allRays.append(r)\n",
    "\n",
    "for o in optics:\n",
    "    view.addItem(o)\n",
    "\n",
    "t2 = Tracer(allRays, optics)\n",
    "\n",
    "### Scanning laser microscopy demo\n",
    "\n",
    "w.nextRow()\n",
    "view = w.addViewBox(colspan=2)\n",
    "\n",
    "optics = []\n",
    "\n",
    "#view.setAspectLocked()\n",
    "view.setRange(QtCore.QRectF(200, -50, 500, 200))\n",
    "\n",
    "## Scan mirrors\n",
    "scanx = 250\n",
    "scany = 20\n",
    "m1 = Mirror(dia=4.2, d=0.001, pos=(scanx, 0), angle=315)\n",
    "m2 = Mirror(dia=8.4, d=0.001, pos=(scanx, scany), angle=135)\n",
    "\n",
    "## Scan lenses\n",
    "l3 = Lens(r1=23.0, r2=0, d=5.8, pos=(scanx+50, scany), glass='Corning7980')  ## 50mm  UVFS  (LA4148)\n",
    "l4 = Lens(r1=0, r2=69.0, d=3.2, pos=(scanx+250, scany), glass='Corning7980')  ## 150mm UVFS  (LA4874)\n",
    "\n",
    "## Objective\n",
    "obj = Lens(r1=15, r2=15, d=10, dia=8, pos=(scanx+400, scany), glass='Corning7980')\n",
    "\n",
    "IROptics = [m1, m2, l3, l4, obj]\n",
    "\n",
    "\n",
    "## Scan mirrors\n",
    "scanx = 250\n",
    "scany = 30\n",
    "m1a = Mirror(dia=4.2, d=0.001, pos=(scanx, 2*scany), angle=315)\n",
    "m2a = Mirror(dia=8.4, d=0.001, pos=(scanx, 3*scany), angle=135)\n",
    "\n",
    "## Scan lenses\n",
    "l3a = Lens(r1=46, r2=0, d=3.8, pos=(scanx+50, 3*scany), glass='Corning7980') ## 100mm UVFS  (LA4380)\n",
    "l4a = Lens(r1=0, r2=46, d=3.8, pos=(scanx+250, 3*scany), glass='Corning7980') ## 100mm UVFS  (LA4380)\n",
    "\n",
    "## Objective\n",
    "obja = Lens(r1=15, r2=15, d=10, dia=8, pos=(scanx+400, 3*scany), glass='Corning7980')\n",
    "\n",
    "IROptics2 = [m1a, m2a, l3a, l4a, obja]\n",
    "\n",
    "for o in set(IROptics+IROptics2):\n",
    "    view.addItem(o)\n",
    "    \n",
    "IRRays = []\n",
    "IRRays2 = []\n",
    "\n",
    "for dy in [-0.4, -0.15, 0, 0.15, 0.4]:\n",
    "    IRRays.append(Ray(start=Point(-50, dy), dir=(1, 0), wl=780))\n",
    "    IRRays2.append(Ray(start=Point(-50, dy+2*scany), dir=(1, 0), wl=780))\n",
    "    \n",
    "for r in set(IRRays+IRRays2):\n",
    "    view.addItem(r)\n",
    "\n",
    "IRTracer = Tracer(IRRays, IROptics)\n",
    "IRTracer2 = Tracer(IRRays2, IROptics2)\n",
    "\n",
    "phase = 0.0\n",
    "def update():\n",
    "    global phase\n",
    "    if phase % (8*np.pi) > 4*np.pi:\n",
    "        m1['angle'] = 315 + 1.5*np.sin(phase)\n",
    "        m1a['angle'] = 315 + 1.5*np.sin(phase)\n",
    "    else:\n",
    "        m2['angle'] = 135 + 1.5*np.sin(phase)\n",
    "        m2a['angle'] = 135 + 1.5*np.sin(phase)\n",
    "    phase += 0.2\n",
    "    \n",
    "timer = QtCore.QTimer()\n",
    "timer.timeout.connect(update)\n",
    "timer.start(40)\n",
    "\n",
    "if __name__ == '__main__':\n",
    "    pg.exec()\n"
   ]
  }
 ],
 "metadata": {
  "kernelspec": {
   "display_name": "Python 3",
   "language": "python",
   "name": "python3"
  },
  "language_info": {
   "codemirror_mode": {
    "name": "ipython",
    "version": 3
   },
   "file_extension": ".py",
   "mimetype": "text/x-python",
   "name": "python",
   "nbconvert_exporter": "python",
   "pygments_lexer": "ipython3",
   "version": "3.10.8"
  },
  "orig_nbformat": 4
 },
 "nbformat": 4,
 "nbformat_minor": 2
}
