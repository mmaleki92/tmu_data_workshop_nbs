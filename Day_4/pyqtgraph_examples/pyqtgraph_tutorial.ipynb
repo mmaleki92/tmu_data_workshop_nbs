{
 "cells": [
  {
   "attachments": {},
   "cell_type": "markdown",
   "metadata": {},
   "source": [
    "### Do matplotlib for 10_0000 particles\n"
   ]
  },
  {
   "cell_type": "code",
   "execution_count": null,
   "metadata": {},
   "outputs": [],
   "source": []
  },
  {
   "attachments": {},
   "cell_type": "markdown",
   "metadata": {},
   "source": [
    "### Do the same as an animation\n"
   ]
  },
  {
   "cell_type": "code",
   "execution_count": null,
   "metadata": {},
   "outputs": [],
   "source": []
  },
  {
   "attachments": {},
   "cell_type": "markdown",
   "metadata": {},
   "source": [
    "# Pyqtgraph"
   ]
  },
  {
   "attachments": {},
   "cell_type": "markdown",
   "metadata": {},
   "source": [
    "- QT"
   ]
  },
  {
   "attachments": {},
   "cell_type": "markdown",
   "metadata": {},
   "source": [
    "- PyQT"
   ]
  },
  {
   "attachments": {},
   "cell_type": "markdown",
   "metadata": {},
   "source": [
    "- QT Workflow"
   ]
  },
  {
   "attachments": {},
   "cell_type": "markdown",
   "metadata": {},
   "source": [
    "# install"
   ]
  },
  {
   "cell_type": "code",
   "execution_count": null,
   "metadata": {},
   "outputs": [],
   "source": [
    "pip install pyqtgraph"
   ]
  },
  {
   "attachments": {},
   "cell_type": "markdown",
   "metadata": {},
   "source": [
    "## imports"
   ]
  },
  {
   "cell_type": "code",
   "execution_count": 2,
   "metadata": {},
   "outputs": [],
   "source": [
    "import numpy as np\n",
    "import pyqtgraph as pg\n",
    "from pyqtgraph.Qt import QtGui\n"
   ]
  },
  {
   "cell_type": "code",
   "execution_count": null,
   "metadata": {},
   "outputs": [],
   "source": [
    "# Create the application and a top-level window\n",
    "app = pg.mkQApp(\"Plotting Example\")\n",
    "\n",
    "pg.plot(np.random.normal(size=100))\n",
    "\n",
    "# Start the event loop\n",
    "pg.exec()"
   ]
  },
  {
   "cell_type": "code",
   "execution_count": 3,
   "metadata": {},
   "outputs": [
    {
     "data": {
      "text/plain": [
       "0"
      ]
     },
     "execution_count": 3,
     "metadata": {},
     "output_type": "execute_result"
    }
   ],
   "source": [
    "# Create the application and a top-level window\n",
    "app = pg.mkQApp(\"Plotting Example\")\n",
    "win = pg.GraphicsLayoutWidget()\n",
    "\n",
    "# Create two plots and add them to the layout widget\n",
    "plot1 = win.addPlot(row=0, col=0, title=\"Plot 1\")\n",
    "plot1.plot(np.random.normal(size=100))\n",
    "\n",
    "plot2 = win.addPlot(row=0, col=1, title=\"Plot 2\")\n",
    "plot2.plot(np.random.normal(size=100))\n",
    "\n",
    "# Set the window properties\n",
    "win.setWindowTitle(\"Multiple Plots Example\")\n",
    "win.show()\n",
    "\n",
    "# Start the event loop\n",
    "pg.exec()"
   ]
  },
  {
   "cell_type": "code",
   "execution_count": 3,
   "metadata": {},
   "outputs": [
    {
     "data": {
      "text/plain": [
       "0"
      ]
     },
     "execution_count": 3,
     "metadata": {},
     "output_type": "execute_result"
    }
   ],
   "source": [
    "import pyqtgraph as pg\n",
    "from pyqtgraph.Qt import QtCore, QtGui\n",
    "\n",
    "app = pg.mkQApp(\"Basic Line Plot\")\n",
    "win = pg.GraphicsLayoutWidget()\n",
    "\n",
    "# Create a plot widget\n",
    "\n",
    "plot = win.addPlot(title=\"My Line Plot\")\n",
    "\n",
    "# Customizing plot appearance\n",
    "plot.showGrid(x=True, y=True)  # Show grid lines\n",
    "plot.setLabel('left', 'Y-axis', units='A')  # Set label for Y-axis\n",
    "plot.setLabel('bottom', 'X-axis', units='s')  # Set label for X-axis\n",
    "\n",
    "# Generate some data\n",
    "x = [1, 2, 3, 4, 5]\n",
    "y = [1, 2, 3, 2, 4]\n",
    "\n",
    "# Plot the data\n",
    "plot.plot(x, y, pen='r', symbol='o', symbolPen='r', symbolBrush='r')\n",
    "win.show()\n",
    "# Start the application event loop\n",
    "app.exec()\n"
   ]
  },
  {
   "cell_type": "code",
   "execution_count": 5,
   "metadata": {},
   "outputs": [
    {
     "data": {
      "text/plain": [
       "0"
      ]
     },
     "execution_count": 5,
     "metadata": {},
     "output_type": "execute_result"
    }
   ],
   "source": [
    "import pyqtgraph as pg\n",
    "from pyqtgraph.Qt import QtCore, QtGui\n",
    "\n",
    "# Create a plot widget\n",
    "app = pg.mkQApp(\"Scatter Plot\")\n",
    "win = pg.GraphicsLayoutWidget()\n",
    "\n",
    "\n",
    "plot = win.addPlot(title=\"My Scatter Plot\")\n",
    "\n",
    "# Customizing plot appearance\n",
    "plot.showGrid(x=True, y=True)  # Show grid lines\n",
    "plot.setLabel('left', 'Y-axis', units='A')  # Set label for Y-axis\n",
    "plot.setLabel('bottom', 'X-axis', units='s')  # Set label for X-axis\n",
    "\n",
    "# Generate some data\n",
    "x = [1, 2, 3, 4, 5]\n",
    "y = [1, 2, 3, 2, 4]\n",
    "size = [10, 20, 30, 40, 50]  # Set custom size for each point\n",
    "\n",
    "# Plot the data\n",
    "plot.plot(x, y, pen=None, symbol='o', symbolPen='b', symbolBrush='b', symbolSize=size)\n",
    "win.show()\n",
    "# Start the application event loop\n",
    "app.exec()\n"
   ]
  },
  {
   "cell_type": "code",
   "execution_count": 12,
   "metadata": {},
   "outputs": [
    {
     "data": {
      "text/plain": [
       "0"
      ]
     },
     "execution_count": 12,
     "metadata": {},
     "output_type": "execute_result"
    }
   ],
   "source": [
    "import pyqtgraph as pg\n",
    "from pyqtgraph.Qt import QtCore, QtGui\n",
    "\n",
    "# Create a plot widget\n",
    "app = pg.mkQApp(\"Bar Plot\")\n",
    "win = pg.GraphicsLayoutWidget()\n",
    "\n",
    "\n",
    "plot = win.addPlot(title=\"My Bar Plot\")\n",
    "\n",
    "# Customizing plot appearance\n",
    "plot.showGrid(x=True, y=True)  # Show grid lines\n",
    "plot.setLabel('left', 'Y-axis', units='A')  # Set label for Y-axis\n",
    "plot.setLabel('bottom', 'X-axis', units='s')  # Set label for X-axis\n",
    "\n",
    "# Generate some data\n",
    "x = [1, 2, 3, 4, 5]\n",
    "y = [1, 2, 3, 2, 4]\n",
    "width = 0.6  # Set custom width for each bar\n",
    "\n",
    "# Plot the data\n",
    "bar_item = pg.BarGraphItem(x=x, height=y, width=width, brush='r')\n",
    "plot.addItem(bar_item)\n",
    "\n",
    "win.show()\n",
    "# Start the application event loop\n",
    "app.exec()\n"
   ]
  },
  {
   "cell_type": "code",
   "execution_count": 15,
   "metadata": {},
   "outputs": [
    {
     "data": {
      "text/plain": [
       "0"
      ]
     },
     "execution_count": 15,
     "metadata": {},
     "output_type": "execute_result"
    }
   ],
   "source": [
    "import pyqtgraph as pg\n",
    "import numpy as np\n",
    "from pyqtgraph.Qt import QtCore, QtGui\n",
    "\n",
    "# Create a plot widget\n",
    "app = pg.mkQApp(\"My Image Plot\")\n",
    "win = pg.GraphicsLayoutWidget()\n",
    "\n",
    "plot = win.addPlot(title=\"My Image Plot\")\n",
    "\n",
    "# Generate some image data\n",
    "image_data = np.random.rand(100, 100)  # Replace with your own image data\n",
    "\n",
    "# Plot the image\n",
    "image_item = pg.ImageItem(image_data)\n",
    "plot.addItem(image_item)\n",
    "\n",
    "# Set the color map for the image plot\n",
    "color_map = pg.ColorMap([0, 0.5, 1], [(0, 0, 0), (255, 255, 255), (255, 0, 0)])\n",
    "\n",
    "# Customize plot appearance\n",
    "plot.setLabel('left', 'Y-axis')\n",
    "plot.setLabel('bottom', 'X-axis')\n",
    "\n",
    "win.show()\n",
    "# Start the application event loop\n",
    "app.exec()\n"
   ]
  },
  {
   "cell_type": "code",
   "execution_count": 3,
   "metadata": {},
   "outputs": [
    {
     "data": {
      "text/plain": [
       "0"
      ]
     },
     "execution_count": 3,
     "metadata": {},
     "output_type": "execute_result"
    }
   ],
   "source": [
    "# Create the application and a top-level window\n",
    "app = pg.mkQApp(\"Plotting Example\")\n",
    "win = pg.GraphicsLayoutWidget()\n",
    "\n",
    "# Create two plots and add them to the layout widget\n",
    "plot1 = win.addPlot(row=0, col=0, title=\"Plot 1\")\n",
    "plot1.plot(np.random.normal(size=100))\n",
    "\n",
    "plot2 = win.addPlot(row=0, col=1, title=\"Plot 2\")\n",
    "plot2.plot(np.random.normal(size=100))\n",
    "\n",
    "# Set the window properties\n",
    "win.setWindowTitle(\"Multiple Plots Example\")\n",
    "win.show()\n",
    "\n",
    "# Start the event loop\n",
    "pg.exec()"
   ]
  },
  {
   "cell_type": "code",
   "execution_count": 4,
   "metadata": {},
   "outputs": [
    {
     "data": {
      "text/plain": [
       "0"
      ]
     },
     "execution_count": 4,
     "metadata": {},
     "output_type": "execute_result"
    }
   ],
   "source": [
    "# Create the application and a top-level window\n",
    "app = pg.mkQApp(\"Plotting Example\")\n",
    "win = pg.GraphicsLayoutWidget()\n",
    "\n",
    "p2 = win.addPlot(title=\"Multiple curves\")\n",
    "p2.plot(np.random.normal(size=100), pen=(255,0,0), name=\"Red curve\")\n",
    "p2.plot(np.random.normal(size=110)+5, pen=(0,255,0), name=\"Green curve\")\n",
    "p2.plot(np.random.normal(size=120)+10, pen=(0,0,255), name=\"Blue curve\")\n",
    "\n",
    "win.show()\n",
    "\n",
    "# Start the event loop\n",
    "pg.exec()\n"
   ]
  },
  {
   "cell_type": "code",
   "execution_count": 5,
   "metadata": {},
   "outputs": [
    {
     "data": {
      "text/plain": [
       "0"
      ]
     },
     "execution_count": 5,
     "metadata": {},
     "output_type": "execute_result"
    }
   ],
   "source": [
    "# Create the application and a top-level window\n",
    "app = pg.mkQApp(\"Plotting Example\")\n",
    "win = pg.GraphicsLayoutWidget()\n",
    "\n",
    "p3 = win.addPlot(title=\"Drawing with points\")\n",
    "p3.plot(np.random.normal(size=100), symbolPen='w', symbol ='o')\n",
    "win.show()\n",
    "\n",
    "# Start the event loop\n",
    "pg.exec()\n"
   ]
  },
  {
   "attachments": {},
   "cell_type": "markdown",
   "metadata": {},
   "source": [
    "- `np.random.normal(size=100)`: This argument generates a NumPy array with 100 random numbers drawn from a normal distribution. These numbers will be used as the y-values for the plot.\n",
    "\n",
    "- `pen=(200,200,200)`: This argument specifies the color of the plot line. The (200,200,200) tuple represents the RGB values for the color. In this case, the plot line color is light gray.\n",
    "\n",
    "- `symbolBrush=(255,0,0)`: This argument sets the color of the symbols used to represent each data point. The (255,0,0) tuple represents the RGB values for the color. In this case, the symbol color is red.\n",
    "\n",
    "- `symbolPen='w'`: This argument sets the color of the outline of the symbols. The 'w' string represents white color. This means the symbols will have a white outline."
   ]
  },
  {
   "cell_type": "code",
   "execution_count": 10,
   "metadata": {},
   "outputs": [
    {
     "data": {
      "text/plain": [
       "0"
      ]
     },
     "execution_count": 10,
     "metadata": {},
     "output_type": "execute_result"
    }
   ],
   "source": [
    "import pyqtgraph as pg\n",
    "from pyqtgraph.Qt import QtGui\n",
    "\n",
    "app = pg.mkQApp(\"Plotting Example\")\n",
    "\n",
    "# Create a plot window\n",
    "win = pg.GraphicsLayoutWidget(title=\"Animation Example\")\n",
    "plot = win.addPlot()\n",
    "\n",
    "# Initialize the data\n",
    "data = [0]\n",
    "\n",
    "# Create a plot curve\n",
    "curve = plot.plot(data, pen='b')\n",
    "\n",
    "# Define the update function\n",
    "def update():\n",
    "    # Append new data to the data array\n",
    "    data.append(np.random.randint(-10,10))\n",
    "\n",
    "    # Update the plot curve with the new data\n",
    "    curve.setData(data[-10:])\n",
    "\n",
    "# Create a timer\n",
    "timer = pg.QtCore.QTimer()\n",
    "timer.timeout.connect(update)\n",
    "timer.start(100)  # Update every 100 milliseconds (10 times per second)\n",
    "win.show()\n",
    "\n",
    "# Start the Qt event loop\n",
    "app.exec()"
   ]
  },
  {
   "attachments": {},
   "cell_type": "markdown",
   "metadata": {},
   "source": [
    "# Do it with files!"
   ]
  },
  {
   "cell_type": "code",
   "execution_count": null,
   "metadata": {},
   "outputs": [],
   "source": []
  },
  {
   "attachments": {},
   "cell_type": "markdown",
   "metadata": {},
   "source": [
    "# optics"
   ]
  },
  {
   "cell_type": "code",
   "execution_count": 8,
   "metadata": {},
   "outputs": [],
   "source": [
    "\"\"\"\n",
    "Optical system design demo\n",
    "\"\"\"\n",
    "\n",
    "import numpy as np\n",
    "from optics import *\n",
    "\n",
    "import pyqtgraph as pg\n",
    "from pyqtgraph import Point\n",
    "\n",
    "app = pg.mkQApp(\"Optics Demo\")\n",
    "\n",
    "w = pg.GraphicsLayoutWidget(show=True, border=0.5)\n",
    "w.resize(1000, 900)\n",
    "w.show()\n",
    "\n",
    "### Curved mirror demo\n",
    "\n",
    "view = w.addViewBox()\n",
    "view.setAspectLocked()\n",
    "#grid = pg.GridItem()\n",
    "#view.addItem(grid)\n",
    "view.setRange(pg.QtCore.QRectF(-50, -30, 100, 100))\n",
    "\n",
    "optics = []\n",
    "rays = []\n",
    "m1 = Mirror(r1=-100, pos=(5,0), d=5, angle=-15)\n",
    "optics.append(m1)\n",
    "m2 = Mirror(r1=-70, pos=(-40, 30), d=6, angle=180-15)\n",
    "optics.append(m2)\n",
    "\n",
    "allRays = []\n",
    "for y in np.linspace(-10, 10, 21):\n",
    "    r = Ray(start=Point(-100, y))\n",
    "    view.addItem(r)\n",
    "    allRays.append(r)\n",
    "\n",
    "for o in optics:\n",
    "    view.addItem(o)\n",
    "    \n",
    "t1 = Tracer(allRays, optics)\n",
    "\n",
    "### Dispersion demo\n",
    "\n",
    "optics = []\n",
    "\n",
    "view = w.addViewBox()\n",
    "\n",
    "view.setAspectLocked()\n",
    "#grid = pg.GridItem()\n",
    "#view.addItem(grid)\n",
    "view.setRange(pg.QtCore.QRectF(-10, -50, 90, 60))\n",
    "\n",
    "optics = []\n",
    "rays = []\n",
    "l1 = Lens(r1=20, r2=20, d=10, angle=8, glass='Corning7980')\n",
    "optics.append(l1)\n",
    "\n",
    "allRays = []\n",
    "for wl in np.linspace(355,1040, 25):\n",
    "    for y in [10]:\n",
    "        r = Ray(start=Point(-100, y), wl=wl)\n",
    "        view.addItem(r)\n",
    "        allRays.append(r)\n",
    "\n",
    "for o in optics:\n",
    "    view.addItem(o)\n",
    "\n",
    "t2 = Tracer(allRays, optics)\n",
    "\n",
    "### Scanning laser microscopy demo\n",
    "\n",
    "w.nextRow()\n",
    "view = w.addViewBox(colspan=2)\n",
    "\n",
    "optics = []\n",
    "\n",
    "#view.setAspectLocked()\n",
    "view.setRange(QtCore.QRectF(200, -50, 500, 200))\n",
    "\n",
    "## Scan mirrors\n",
    "scanx = 250\n",
    "scany = 20\n",
    "m1 = Mirror(dia=4.2, d=0.001, pos=(scanx, 0), angle=315)\n",
    "m2 = Mirror(dia=8.4, d=0.001, pos=(scanx, scany), angle=135)\n",
    "\n",
    "## Scan lenses\n",
    "l3 = Lens(r1=23.0, r2=0, d=5.8, pos=(scanx+50, scany), glass='Corning7980')  ## 50mm  UVFS  (LA4148)\n",
    "l4 = Lens(r1=0, r2=69.0, d=3.2, pos=(scanx+250, scany), glass='Corning7980')  ## 150mm UVFS  (LA4874)\n",
    "\n",
    "## Objective\n",
    "obj = Lens(r1=15, r2=15, d=10, dia=8, pos=(scanx+400, scany), glass='Corning7980')\n",
    "\n",
    "IROptics = [m1, m2, l3, l4, obj]\n",
    "\n",
    "\n",
    "## Scan mirrors\n",
    "scanx = 250\n",
    "scany = 30\n",
    "m1a = Mirror(dia=4.2, d=0.001, pos=(scanx, 2*scany), angle=315)\n",
    "m2a = Mirror(dia=8.4, d=0.001, pos=(scanx, 3*scany), angle=135)\n",
    "\n",
    "## Scan lenses\n",
    "l3a = Lens(r1=46, r2=0, d=3.8, pos=(scanx+50, 3*scany), glass='Corning7980') ## 100mm UVFS  (LA4380)\n",
    "l4a = Lens(r1=0, r2=46, d=3.8, pos=(scanx+250, 3*scany), glass='Corning7980') ## 100mm UVFS  (LA4380)\n",
    "\n",
    "## Objective\n",
    "obja = Lens(r1=15, r2=15, d=10, dia=8, pos=(scanx+400, 3*scany), glass='Corning7980')\n",
    "\n",
    "IROptics2 = [m1a, m2a, l3a, l4a, obja]\n",
    "\n",
    "for o in set(IROptics+IROptics2):\n",
    "    view.addItem(o)\n",
    "    \n",
    "IRRays = []\n",
    "IRRays2 = []\n",
    "\n",
    "for dy in [-0.4, -0.15, 0, 0.15, 0.4]:\n",
    "    IRRays.append(Ray(start=Point(-50, dy), dir=(1, 0), wl=780))\n",
    "    IRRays2.append(Ray(start=Point(-50, dy+2*scany), dir=(1, 0), wl=780))\n",
    "    \n",
    "for r in set(IRRays+IRRays2):\n",
    "    view.addItem(r)\n",
    "\n",
    "IRTracer = Tracer(IRRays, IROptics)\n",
    "IRTracer2 = Tracer(IRRays2, IROptics2)\n",
    "\n",
    "phase = 0.0\n",
    "def update():\n",
    "    global phase\n",
    "    if phase % (8*np.pi) > 4*np.pi:\n",
    "        m1['angle'] = 315 + 1.5*np.sin(phase)\n",
    "        m1a['angle'] = 315 + 1.5*np.sin(phase)\n",
    "    else:\n",
    "        m2['angle'] = 135 + 1.5*np.sin(phase)\n",
    "        m2a['angle'] = 135 + 1.5*np.sin(phase)\n",
    "    phase += 0.2\n",
    "    \n",
    "timer = QtCore.QTimer()\n",
    "timer.timeout.connect(update)\n",
    "timer.start(40)\n",
    "\n",
    "if __name__ == '__main__':\n",
    "    pg.exec()\n"
   ]
  },
  {
   "attachments": {},
   "cell_type": "markdown",
   "metadata": {},
   "source": [
    "# Surfaces"
   ]
  },
  {
   "cell_type": "code",
   "execution_count": 7,
   "metadata": {},
   "outputs": [],
   "source": [
    "\"\"\"\n",
    "This example demonstrates the use of GLSurfacePlotItem.\n",
    "\"\"\"\n",
    "\n",
    "import numpy as np\n",
    "\n",
    "import pyqtgraph as pg\n",
    "import pyqtgraph.opengl as gl\n",
    "from pyqtgraph.Qt import QtCore\n",
    "\n",
    "## Create a GL View widget to display data\n",
    "app = pg.mkQApp(\"GLSurfacePlot Example\")\n",
    "w = gl.GLViewWidget()\n",
    "w.show()\n",
    "w.setWindowTitle('pyqtgraph example: GLSurfacePlot')\n",
    "w.setCameraPosition(distance=50)\n",
    "\n",
    "## Add a grid to the view\n",
    "g = gl.GLGridItem()\n",
    "g.scale(2,2,1)\n",
    "g.setDepthValue(10)  # draw grid after surfaces since they may be translucent\n",
    "w.addItem(g)\n",
    "\n",
    "\n",
    "## Simple surface plot example\n",
    "## x, y values are not specified, so assumed to be 0:50\n",
    "z = pg.gaussianFilter(np.random.normal(size=(50,50)), (1,1))\n",
    "p1 = gl.GLSurfacePlotItem(z=z, shader='shaded', color=(0.5, 0.5, 1, 1))\n",
    "p1.scale(16./49., 16./49., 1.0)\n",
    "p1.translate(-18, 2, 0)\n",
    "w.addItem(p1)\n",
    "\n",
    "\n",
    "## Saddle example with x and y specified\n",
    "x = np.linspace(-8, 8, 50)\n",
    "y = np.linspace(-8, 8, 50)\n",
    "z = 0.1 * ((x.reshape(50,1) ** 2) - (y.reshape(1,50) ** 2))\n",
    "p2 = gl.GLSurfacePlotItem(x=x, y=y, z=z, shader='normalColor')\n",
    "p2.translate(-10,-10,0)\n",
    "w.addItem(p2)\n",
    "\n",
    "\n",
    "## Manually specified colors\n",
    "z = pg.gaussianFilter(np.random.normal(size=(50,50)), (1,1))\n",
    "x = np.linspace(-12, 12, 50)\n",
    "y = np.linspace(-12, 12, 50)\n",
    "colors = np.ones((50,50,4), dtype=float)\n",
    "colors[...,0] = np.clip(np.cos(((x.reshape(50,1) ** 2) + (y.reshape(1,50) ** 2)) ** 0.5), 0, 1)\n",
    "colors[...,1] = colors[...,0]\n",
    "\n",
    "p3 = gl.GLSurfacePlotItem(z=z, colors=colors.reshape(50*50,4), shader='shaded', smooth=False)\n",
    "p3.scale(16./49., 16./49., 1.0)\n",
    "p3.translate(2, -18, 0)\n",
    "w.addItem(p3)\n",
    "\n",
    "\n",
    "## Animated example\n",
    "## compute surface vertex data\n",
    "cols = 90\n",
    "rows = 100\n",
    "x = np.linspace(-8, 8, cols+1).reshape(cols+1,1)\n",
    "y = np.linspace(-8, 8, rows+1).reshape(1,rows+1)\n",
    "d = (x**2 + y**2) * 0.1\n",
    "d2 = d ** 0.5 + 0.1\n",
    "\n",
    "## precompute height values for all frames\n",
    "phi = np.arange(0, np.pi*2, np.pi/20.)\n",
    "z = np.sin(d[np.newaxis,...] + phi.reshape(phi.shape[0], 1, 1)) / d2[np.newaxis,...]\n",
    "\n",
    "\n",
    "## create a surface plot, tell it to use the 'heightColor' shader\n",
    "## since this does not require normal vectors to render (thus we \n",
    "## can set computeNormals=False to save time when the mesh updates)\n",
    "p4 = gl.GLSurfacePlotItem(x=x[:,0], y = y[0,:], shader='heightColor', computeNormals=False, smooth=False)\n",
    "p4.shader()['colorMap'] = np.array([0.2, 2, 0.5, 0.2, 1, 1, 0.2, 0, 2])\n",
    "p4.translate(10, 10, 0)\n",
    "w.addItem(p4)\n",
    "\n",
    "index = 0\n",
    "def update():\n",
    "    global p4, z, index\n",
    "    index -= 1\n",
    "    p4.setData(z=z[index%z.shape[0]])\n",
    "    \n",
    "timer = QtCore.QTimer()\n",
    "timer.timeout.connect(update)\n",
    "timer.start(30)\n",
    "\n",
    "if __name__ == '__main__':\n",
    "    pg.exec()\n"
   ]
  },
  {
   "attachments": {},
   "cell_type": "markdown",
   "metadata": {},
   "source": [
    "# other examples"
   ]
  },
  {
   "cell_type": "code",
   "execution_count": 9,
   "metadata": {},
   "outputs": [],
   "source": [
    "import pyqtgraph.examples\n",
    "pyqtgraph.examples.run()"
   ]
  }
 ],
 "metadata": {
  "kernelspec": {
   "display_name": "Python 3",
   "language": "python",
   "name": "python3"
  },
  "language_info": {
   "codemirror_mode": {
    "name": "ipython",
    "version": 3
   },
   "file_extension": ".py",
   "mimetype": "text/x-python",
   "name": "python",
   "nbconvert_exporter": "python",
   "pygments_lexer": "ipython3",
   "version": "3.11.1"
  },
  "orig_nbformat": 4
 },
 "nbformat": 4,
 "nbformat_minor": 2
}
